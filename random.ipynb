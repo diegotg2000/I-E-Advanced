{
 "cells": [
  {
   "cell_type": "code",
   "execution_count": 1,
   "metadata": {},
   "outputs": [],
   "source": [
    "import json"
   ]
  },
  {
   "cell_type": "code",
   "execution_count": 2,
   "metadata": {},
   "outputs": [],
   "source": [
    "with open('../aligned_transcriptions.json', 'r') as f:\n",
    "    data = json.load(f)"
   ]
  },
  {
   "cell_type": "code",
   "execution_count": 16,
   "metadata": {},
   "outputs": [],
   "source": [
    "with open('../summary.txt', 'r') as f:\n",
    "    summary = f.read()"
   ]
  },
  {
   "cell_type": "code",
   "execution_count": 18,
   "metadata": {},
   "outputs": [],
   "source": [
    "added_content = [\n",
    "    \"--\",\n",
    "    \"\"\"- In domain adaptation, the focus is on adapting from a source distribution XS to a target distribution XT, while keeping the same traditional distribution PY|X.\n",
    "- Concept shift involves a change in the distributions PY|X, where the concepts themselves are altered leading to variations in the examples provided.\n",
    "- Transfer learning comes into play where XS is not equal to XT and/or YS is not equal to YT, indicating differences in either the input data distributions, output data distributions, or both.\"\"\",\n",
    "    \"\"\"- Domain adaptation can sometimes have varying definitions, but it generally involves adapting to changes in the distribution of data while the underlying task remains the same.\n",
    "- The concept of domain adaptation is not fixed and can encompass different scenarios, including changes in user preferences or shifts in the relevance of certain products.\n",
    "- Domain adaptation is closely related to the concept of covariate shift, where the distribution of the input data changes, but the form of the distribution (the relationship between input and output) remains constant.\n",
    "- The lecture highlights the dynamic nature of domain adaptation, indicating that the specifics can vary based on the context, such as changes in user interests or market trends.\"\"\",\n",
    "\"--\",\n",
    "\"--\"\n",
    "]"
   ]
  },
  {
   "cell_type": "code",
   "execution_count": 23,
   "metadata": {},
   "outputs": [
    {
     "name": "stdout",
     "output_type": "stream",
     "text": [
      "Slide Content:\n",
      "57 / 97\n",
      "How to approach the problem\n",
      "?\n",
      "\n",
      "Lecture summary:\n",
      "The lecture discussed domain adaptation, which involves adapting models trained on one domain to perform well on another domain. It touched on concepts like concept shift, semi-supervised data placement, and source-free domain adaptation. The lecture also mentioned techniques like tracking invariance and temporal consistency to improve model performance. Additionally, it highlighted the importance of learning local models instead of general models in certain situations. The lecture concluded by emphasizing the significance of understanding the specific characteristics of the data and adapting models accordingly.\n",
      "\n",
      "Information previously added to slides:\n",
      "- Domain adaptation can sometimes have varying definitions, but it generally involves adapting to changes in the distribution of data while the underlying task remains the same.\n",
      "- The concept of domain adaptation is not fixed and can encompass different scenarios, including changes in user preferences or shifts in the relevance of certain products.\n",
      "- Domain adaptation is closely related to the concept of covariate shift, where the distribution of the input data changes, but the form of the distribution (the relationship between input and output) remains constant.\n",
      "- The lecture highlights the dynamic nature of domain adaptation, indicating that the specifics can vary based on the context, such as changes in user interests or market trends.\n",
      "--\n",
      "--\n",
      "\n",
      "Transcription:\n",
      " maybe you find something spam, like when you label, you say, oh, this is very interesting. So here this is concept shift. Okay, just a little bit of technology. what we call semi-supervised data placement where the SOC data in the target data makes ladder data. Not enough, and not enough data to semi-supervise on the target side. In the S-subtabular data distribution, we have the SOCs, where we have the only data which is laddered, oh yes, in those we have so fast laddered data in the target. Okay, so here, no laddered data. And in the source-free domain of HG, we don't even have the training data in the source, but only the hypotheses which we have the concepts. Because of priority concepts, you don't want to communicate the source data. You just want to communicate, you have already communicated the hypothesis, the source hypothesis, but not the source data. Okay, for instance, you have a NOS feed on a block. which has a latency with the patients and with the consumers. You don't want to transmit information to the consumers of the business, but you are willing to transmit. right? this is called sans\n"
     ]
    }
   ],
   "source": [
    "ix = 5\n",
    "dd = data[ix]\n",
    "# print(\"\"\"I will give you the transcript of a lecture that I attended. The transcription was made by an AI model so it might not be perfect, keep that in mind. I'll also give you the content of a slide that was shown during the lecture. Please tell me if there is some information that was mentioned during the lecture which can complement the content of the slide. If you don't think so, just respond with \"No info\\\"\"\"\")\n",
    "print('Slide Content:')\n",
    "print(dd['slide content'])\n",
    "print('Lecture summary:')\n",
    "print(summary)\n",
    "print('')\n",
    "print('Information previously added to slides:')\n",
    "for i in range(ix-3, ix):\n",
    "    if i >= 0:\n",
    "        print(added_content[i])\n",
    "print('')\n",
    "print('Transcription:')\n",
    "print(dd['transcript'])\n"
   ]
  },
  {
   "cell_type": "code",
   "execution_count": null,
   "metadata": {},
   "outputs": [],
   "source": []
  }
 ],
 "metadata": {
  "kernelspec": {
   "display_name": "iande1",
   "language": "python",
   "name": "python3"
  },
  "language_info": {
   "codemirror_mode": {
    "name": "ipython",
    "version": 3
   },
   "file_extension": ".py",
   "mimetype": "text/x-python",
   "name": "python",
   "nbconvert_exporter": "python",
   "pygments_lexer": "ipython3",
   "version": "3.9.18"
  }
 },
 "nbformat": 4,
 "nbformat_minor": 2
}
