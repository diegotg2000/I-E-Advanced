{
 "cells": [
  {
   "cell_type": "code",
   "execution_count": 2,
   "metadata": {},
   "outputs": [],
   "source": [
    "import json\n",
    "from pypdf import PdfReader, PdfWriter\n",
    "from pypdf.annotations import FreeText\n",
    "\n",
    "# Load the JSON file\n",
    "with open('LTAML_second.json', 'r') as json_file:\n",
    "    data = json.load(json_file)\n",
    "\n",
    "# Open the PDF file\n",
    "pdf_location = 'LTAML.pdf'\n",
    "reader = PdfReader(pdf_location)\n"
   ]
  },
  {
   "cell_type": "code",
   "execution_count": 3,
   "metadata": {},
   "outputs": [],
   "source": [
    "def compute_rectangle_size(text):\n",
    "    \"\"\" \n",
    "    Given a text, find out what is the required rectangle size to fit it with 100 characters per line. The text may contain new lines.\n",
    "    \"\"\"\n",
    "    lines = text.split('\\n')\n",
    "    # if a line is longer than 100 characters, it counts as multiple lines; otherwise, as 1\n",
    "    lines_per_line = [len(line) // 100 + 1 for line in lines]\n",
    "    total_height = sum(lines_per_line)\n",
    "    max_length = min(max([len(line) for line in lines]), 100)\n",
    "    return (max_length * 6, total_height * 15)"
   ]
  },
  {
   "cell_type": "code",
   "execution_count": 4,
   "metadata": {},
   "outputs": [],
   "source": [
    "writer = PdfWriter()\n",
    "for entry in data:\n",
    "    slide_number = entry['slide_number'] - 1\n",
    "    text = entry['content']\n",
    "\n",
    "    rectangle_size = compute_rectangle_size(text)\n",
    "    # origin_point = (0, 0)\n",
    "    # rectangle_points = (origin_point[0], origin_point[1], origin_point[0]+rectangle_size[0], origin_point[1]+rectangle_size[1])\n",
    "    origin_point = (840, 590)\n",
    "    rectangle_points = (origin_point[0]-rectangle_size[0], origin_point[1]-rectangle_size[1], origin_point[0], origin_point[1])\n",
    "\n",
    "    page = reader.pages[slide_number]\n",
    "    writer.add_page(page)\n",
    "    annotation = FreeText(\n",
    "        text=text, rect=rectangle_points,\n",
    "        font='Courier',\n",
    "        font_size=12,\n",
    "        border_color=\"0000ff\",\n",
    "        background_color=\"cdcdcd\")\n",
    "    \n",
    "    writer.add_annotation(page_number=slide_number, annotation=annotation)\n",
    "\n",
    "# Save the PDF file\n",
    "output_file = 'LTAML_annotated_second.pdf'\n",
    "with open(output_file, 'wb') as output:\n",
    "    writer.write(output)\n"
   ]
  },
  {
   "cell_type": "markdown",
   "metadata": {},
   "source": [
    "annotation options below bcs too lazy to read docs"
   ]
  },
  {
   "cell_type": "code",
   "execution_count": 19,
   "metadata": {},
   "outputs": [],
   "source": [
    "# page = reader.pages[0]\n",
    "# writer.add_page(page)\n",
    "\n",
    "# # Create the annotation and add it\n",
    "# annotation = FreeText(\n",
    "#     text=\"Hello World\\nThis is the second line!\",\n",
    "#     rect=(50, 550, 200, 650),\n",
    "#     font=\"Arial\",\n",
    "#     bold=True,\n",
    "#     italic=True,\n",
    "#     font_size=\"20pt\",\n",
    "#     font_color=\"00ff00\",\n",
    "#     border_color=\"0000ff\",\n",
    "#     background_color=\"cdcdcd\",\n",
    "# )\n",
    "# writer.add_annotation(page_number=0, annotation=annotation)\n",
    "\n",
    "# # Write the annotated file to disk\n",
    "# with open(\"annotated-pdf.pdf\", \"wb\") as fp:\n",
    "#     writer.write(fp)"
   ]
  },
  {
   "cell_type": "markdown",
   "metadata": {},
   "source": [
    "## New Approach\n",
    "\n",
    "(See `utils.py`)"
   ]
  },
  {
   "cell_type": "code",
   "execution_count": 1,
   "metadata": {},
   "outputs": [],
   "source": [
    "from utils import add_text_to_pdf_and_save\n",
    "import json"
   ]
  },
  {
   "cell_type": "code",
   "execution_count": 4,
   "metadata": {},
   "outputs": [],
   "source": [
    "with open('../Annotations_For_DomainAdaptation.json', 'r') as f:\n",
    "    domain_annotations = json.load(f)"
   ]
  },
  {
   "cell_type": "code",
   "execution_count": 6,
   "metadata": {},
   "outputs": [],
   "source": [
    "with open('../Annotations_For_MultiTaskLearningMLDP.json', 'r') as f:\n",
    "    multitask_annotations = json.load(f)"
   ]
  },
  {
   "cell_type": "code",
   "execution_count": 9,
   "metadata": {},
   "outputs": [],
   "source": [
    "add_text_to_pdf_and_save(\"../LTAML_TrackingDomainAdaptation-50-97.pdf\", \"LTAML_DomainAdaptation.pdf\", domain_annotations, font_size=12)"
   ]
  },
  {
   "cell_type": "code",
   "execution_count": 8,
   "metadata": {},
   "outputs": [],
   "source": [
    "add_text_to_pdf_and_save(\"../LTAML_MultiTaskLearningMLDP-49-98.pdf\", \"LTAML_MultiTaskLearning.pdf\", multitask_annotations, font_size=12)"
   ]
  },
  {
   "cell_type": "code",
   "execution_count": null,
   "metadata": {},
   "outputs": [],
   "source": []
  }
 ],
 "metadata": {
  "kernelspec": {
   "display_name": "uni_env",
   "language": "python",
   "name": "python3"
  },
  "language_info": {
   "codemirror_mode": {
    "name": "ipython",
    "version": 3
   },
   "file_extension": ".py",
   "mimetype": "text/x-python",
   "name": "python",
   "nbconvert_exporter": "python",
   "pygments_lexer": "ipython3",
   "version": "3.9.18"
  }
 },
 "nbformat": 4,
 "nbformat_minor": 2
}
